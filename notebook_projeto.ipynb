{
 "cells": [
  {
   "cell_type": "markdown",
   "id": "5d1a8d52-0430-42eb-b29c-5b4d9b69258d",
   "metadata": {},
   "source": [
    "<center>\n",
    "    <h1 style=\"color:rgb(40, 0, 77);font-size:40px\"><b>NIDS baseado em machine learning - Segurança e Auditoria de Sistemas</b></h1>\n",
    "</center>"
   ]
  },
  {
   "cell_type": "markdown",
   "id": "63d8da66-f2f9-4c6d-8bde-1948f50d215a",
   "metadata": {},
   "source": [
    "<center><img src=\"seguranca.jpg\" width=800/>"
   ]
  },
  {
   "cell_type": "markdown",
   "id": "f3cd1e42-c9e9-4ef2-8500-b61984424849",
   "metadata": {},
   "source": [
    "# **Descrição do Problema**\n",
    "\n",
    "<p>Este Jupyter Notebook será utilizado para solução do problema proposto no projeto da disciplina de Segurança e Auditoria de Sistemas, UTFPR-CP. O objetivo do trabalho é desenvolver um modelo de machine learning que seja capaz de classificar se um fluxo de pacotes em uma rede representa uma ameaça ou não, e, caso represente, qual o tipo específico de ameaça, no caso, um Network Intrusion Detection System (NIDS). O dataset utilizado será o NSL-KDD, disponibilizado pela University of New Brunswick (UNB).</p>\n",
    "\n",
    "Com isso em mente, ao longo deste notebook serão desenvolvidas as tarefas:\n",
    "- Análise exploratória, limpeza e manipulação dos dados;\n",
    "- Criação de gráficos para visualização dos dados;\n",
    "- Construção de modelos preditivos, buscando testar diferentes algoritmos de classificação."
   ]
  },
  {
   "cell_type": "markdown",
   "id": "f4f420de-fc79-4e23-8e08-d85cde6205cf",
   "metadata": {},
   "source": [
    "# **Importação das bibliotecas**"
   ]
  },
  {
   "cell_type": "code",
   "execution_count": 1,
   "id": "53b2d0f5-e022-4d5c-8d8e-402af960f439",
   "metadata": {},
   "outputs": [],
   "source": [
    "import pandas as pd\n",
    "import matplotlib.pyplot as plt\n",
    "import numpy as np\n",
    "import seaborn as sns\n",
    "import warnings\n",
    "from sklearn.feature_selection import mutual_info_classif\n",
    "from sklearn.preprocessing import OneHotEncoder, MinMaxScaler\n",
    "from sklearn.compose import ColumnTransformer\n",
    "from sklearn.pipeline import Pipeline\n",
    "from sklearn.ensemble import RandomForestClassifier\n",
    "from sklearn.svm import SVC\n",
    "from sklearn.tree import DecisionTreeClassifier\n",
    "from sklearn.metrics import classification_report,accuracy_score, precision_recall_fscore_support\n",
    "warnings.filterwarnings('ignore')\n",
    "%matplotlib inline"
   ]
  },
  {
   "cell_type": "markdown",
   "id": "10772a17-5e9b-4bb6-ba93-29f1c5a7bc86",
   "metadata": {},
   "source": [
    "# **Análise Exploratória, limpeza e manipulação dos dados**"
   ]
  },
  {
   "cell_type": "code",
   "execution_count": 59,
   "id": "1d26bf79-f853-4627-83dc-a661bd9b0898",
   "metadata": {},
   "outputs": [
    {
     "data": {
      "text/html": [
       "<div>\n",
       "<style scoped>\n",
       "    .dataframe tbody tr th:only-of-type {\n",
       "        vertical-align: middle;\n",
       "    }\n",
       "\n",
       "    .dataframe tbody tr th {\n",
       "        vertical-align: top;\n",
       "    }\n",
       "\n",
       "    .dataframe thead th {\n",
       "        text-align: right;\n",
       "    }\n",
       "</style>\n",
       "<table border=\"1\" class=\"dataframe\">\n",
       "  <thead>\n",
       "    <tr style=\"text-align: right;\">\n",
       "      <th></th>\n",
       "      <th>duration</th>\n",
       "      <th>protocol type</th>\n",
       "      <th>service</th>\n",
       "      <th>flag</th>\n",
       "      <th>src_bytes</th>\n",
       "      <th>dst_bytes</th>\n",
       "      <th>land</th>\n",
       "      <th>wrong_fragment</th>\n",
       "      <th>urgent</th>\n",
       "      <th>hot</th>\n",
       "      <th>...</th>\n",
       "      <th>dst_host_same_srv_rate</th>\n",
       "      <th>dst_host_diff_srv_rate</th>\n",
       "      <th>dst_host_same_src_port_rate</th>\n",
       "      <th>dst_host_srv_diff_host_rate</th>\n",
       "      <th>dst_host_serror_rate</th>\n",
       "      <th>dst_host_srv_serror_rate</th>\n",
       "      <th>dst_host_rerror_rate</th>\n",
       "      <th>dst_host_srv_rerror_rate</th>\n",
       "      <th>attack type</th>\n",
       "      <th>attack level</th>\n",
       "    </tr>\n",
       "  </thead>\n",
       "  <tbody>\n",
       "    <tr>\n",
       "      <th>0</th>\n",
       "      <td>0</td>\n",
       "      <td>tcp</td>\n",
       "      <td>ftp_data</td>\n",
       "      <td>SF</td>\n",
       "      <td>491</td>\n",
       "      <td>0</td>\n",
       "      <td>0</td>\n",
       "      <td>0</td>\n",
       "      <td>0</td>\n",
       "      <td>0</td>\n",
       "      <td>...</td>\n",
       "      <td>0.17</td>\n",
       "      <td>0.03</td>\n",
       "      <td>0.17</td>\n",
       "      <td>0.00</td>\n",
       "      <td>0.00</td>\n",
       "      <td>0.00</td>\n",
       "      <td>0.05</td>\n",
       "      <td>0.00</td>\n",
       "      <td>normal</td>\n",
       "      <td>20</td>\n",
       "    </tr>\n",
       "    <tr>\n",
       "      <th>1</th>\n",
       "      <td>0</td>\n",
       "      <td>udp</td>\n",
       "      <td>other</td>\n",
       "      <td>SF</td>\n",
       "      <td>146</td>\n",
       "      <td>0</td>\n",
       "      <td>0</td>\n",
       "      <td>0</td>\n",
       "      <td>0</td>\n",
       "      <td>0</td>\n",
       "      <td>...</td>\n",
       "      <td>0.00</td>\n",
       "      <td>0.60</td>\n",
       "      <td>0.88</td>\n",
       "      <td>0.00</td>\n",
       "      <td>0.00</td>\n",
       "      <td>0.00</td>\n",
       "      <td>0.00</td>\n",
       "      <td>0.00</td>\n",
       "      <td>normal</td>\n",
       "      <td>15</td>\n",
       "    </tr>\n",
       "    <tr>\n",
       "      <th>2</th>\n",
       "      <td>0</td>\n",
       "      <td>tcp</td>\n",
       "      <td>private</td>\n",
       "      <td>S0</td>\n",
       "      <td>0</td>\n",
       "      <td>0</td>\n",
       "      <td>0</td>\n",
       "      <td>0</td>\n",
       "      <td>0</td>\n",
       "      <td>0</td>\n",
       "      <td>...</td>\n",
       "      <td>0.10</td>\n",
       "      <td>0.05</td>\n",
       "      <td>0.00</td>\n",
       "      <td>0.00</td>\n",
       "      <td>1.00</td>\n",
       "      <td>1.00</td>\n",
       "      <td>0.00</td>\n",
       "      <td>0.00</td>\n",
       "      <td>neptune</td>\n",
       "      <td>19</td>\n",
       "    </tr>\n",
       "    <tr>\n",
       "      <th>3</th>\n",
       "      <td>0</td>\n",
       "      <td>tcp</td>\n",
       "      <td>http</td>\n",
       "      <td>SF</td>\n",
       "      <td>232</td>\n",
       "      <td>8153</td>\n",
       "      <td>0</td>\n",
       "      <td>0</td>\n",
       "      <td>0</td>\n",
       "      <td>0</td>\n",
       "      <td>...</td>\n",
       "      <td>1.00</td>\n",
       "      <td>0.00</td>\n",
       "      <td>0.03</td>\n",
       "      <td>0.04</td>\n",
       "      <td>0.03</td>\n",
       "      <td>0.01</td>\n",
       "      <td>0.00</td>\n",
       "      <td>0.01</td>\n",
       "      <td>normal</td>\n",
       "      <td>21</td>\n",
       "    </tr>\n",
       "    <tr>\n",
       "      <th>4</th>\n",
       "      <td>0</td>\n",
       "      <td>tcp</td>\n",
       "      <td>http</td>\n",
       "      <td>SF</td>\n",
       "      <td>199</td>\n",
       "      <td>420</td>\n",
       "      <td>0</td>\n",
       "      <td>0</td>\n",
       "      <td>0</td>\n",
       "      <td>0</td>\n",
       "      <td>...</td>\n",
       "      <td>1.00</td>\n",
       "      <td>0.00</td>\n",
       "      <td>0.00</td>\n",
       "      <td>0.00</td>\n",
       "      <td>0.00</td>\n",
       "      <td>0.00</td>\n",
       "      <td>0.00</td>\n",
       "      <td>0.00</td>\n",
       "      <td>normal</td>\n",
       "      <td>21</td>\n",
       "    </tr>\n",
       "    <tr>\n",
       "      <th>5</th>\n",
       "      <td>0</td>\n",
       "      <td>tcp</td>\n",
       "      <td>private</td>\n",
       "      <td>REJ</td>\n",
       "      <td>0</td>\n",
       "      <td>0</td>\n",
       "      <td>0</td>\n",
       "      <td>0</td>\n",
       "      <td>0</td>\n",
       "      <td>0</td>\n",
       "      <td>...</td>\n",
       "      <td>0.07</td>\n",
       "      <td>0.07</td>\n",
       "      <td>0.00</td>\n",
       "      <td>0.00</td>\n",
       "      <td>0.00</td>\n",
       "      <td>0.00</td>\n",
       "      <td>1.00</td>\n",
       "      <td>1.00</td>\n",
       "      <td>neptune</td>\n",
       "      <td>21</td>\n",
       "    </tr>\n",
       "    <tr>\n",
       "      <th>6</th>\n",
       "      <td>0</td>\n",
       "      <td>tcp</td>\n",
       "      <td>private</td>\n",
       "      <td>S0</td>\n",
       "      <td>0</td>\n",
       "      <td>0</td>\n",
       "      <td>0</td>\n",
       "      <td>0</td>\n",
       "      <td>0</td>\n",
       "      <td>0</td>\n",
       "      <td>...</td>\n",
       "      <td>0.04</td>\n",
       "      <td>0.05</td>\n",
       "      <td>0.00</td>\n",
       "      <td>0.00</td>\n",
       "      <td>1.00</td>\n",
       "      <td>1.00</td>\n",
       "      <td>0.00</td>\n",
       "      <td>0.00</td>\n",
       "      <td>neptune</td>\n",
       "      <td>21</td>\n",
       "    </tr>\n",
       "    <tr>\n",
       "      <th>7</th>\n",
       "      <td>0</td>\n",
       "      <td>tcp</td>\n",
       "      <td>private</td>\n",
       "      <td>S0</td>\n",
       "      <td>0</td>\n",
       "      <td>0</td>\n",
       "      <td>0</td>\n",
       "      <td>0</td>\n",
       "      <td>0</td>\n",
       "      <td>0</td>\n",
       "      <td>...</td>\n",
       "      <td>0.06</td>\n",
       "      <td>0.07</td>\n",
       "      <td>0.00</td>\n",
       "      <td>0.00</td>\n",
       "      <td>1.00</td>\n",
       "      <td>1.00</td>\n",
       "      <td>0.00</td>\n",
       "      <td>0.00</td>\n",
       "      <td>neptune</td>\n",
       "      <td>21</td>\n",
       "    </tr>\n",
       "    <tr>\n",
       "      <th>8</th>\n",
       "      <td>0</td>\n",
       "      <td>tcp</td>\n",
       "      <td>remote_job</td>\n",
       "      <td>S0</td>\n",
       "      <td>0</td>\n",
       "      <td>0</td>\n",
       "      <td>0</td>\n",
       "      <td>0</td>\n",
       "      <td>0</td>\n",
       "      <td>0</td>\n",
       "      <td>...</td>\n",
       "      <td>0.09</td>\n",
       "      <td>0.05</td>\n",
       "      <td>0.00</td>\n",
       "      <td>0.00</td>\n",
       "      <td>1.00</td>\n",
       "      <td>1.00</td>\n",
       "      <td>0.00</td>\n",
       "      <td>0.00</td>\n",
       "      <td>neptune</td>\n",
       "      <td>21</td>\n",
       "    </tr>\n",
       "    <tr>\n",
       "      <th>9</th>\n",
       "      <td>0</td>\n",
       "      <td>tcp</td>\n",
       "      <td>private</td>\n",
       "      <td>S0</td>\n",
       "      <td>0</td>\n",
       "      <td>0</td>\n",
       "      <td>0</td>\n",
       "      <td>0</td>\n",
       "      <td>0</td>\n",
       "      <td>0</td>\n",
       "      <td>...</td>\n",
       "      <td>0.05</td>\n",
       "      <td>0.06</td>\n",
       "      <td>0.00</td>\n",
       "      <td>0.00</td>\n",
       "      <td>1.00</td>\n",
       "      <td>1.00</td>\n",
       "      <td>0.00</td>\n",
       "      <td>0.00</td>\n",
       "      <td>neptune</td>\n",
       "      <td>21</td>\n",
       "    </tr>\n",
       "  </tbody>\n",
       "</table>\n",
       "<p>10 rows × 43 columns</p>\n",
       "</div>"
      ],
      "text/plain": [
       "   duration protocol type     service flag  src_bytes  dst_bytes  land  \\\n",
       "0         0           tcp    ftp_data   SF        491          0     0   \n",
       "1         0           udp       other   SF        146          0     0   \n",
       "2         0           tcp     private   S0          0          0     0   \n",
       "3         0           tcp        http   SF        232       8153     0   \n",
       "4         0           tcp        http   SF        199        420     0   \n",
       "5         0           tcp     private  REJ          0          0     0   \n",
       "6         0           tcp     private   S0          0          0     0   \n",
       "7         0           tcp     private   S0          0          0     0   \n",
       "8         0           tcp  remote_job   S0          0          0     0   \n",
       "9         0           tcp     private   S0          0          0     0   \n",
       "\n",
       "   wrong_fragment  urgent  hot  ...  dst_host_same_srv_rate  \\\n",
       "0               0       0    0  ...                    0.17   \n",
       "1               0       0    0  ...                    0.00   \n",
       "2               0       0    0  ...                    0.10   \n",
       "3               0       0    0  ...                    1.00   \n",
       "4               0       0    0  ...                    1.00   \n",
       "5               0       0    0  ...                    0.07   \n",
       "6               0       0    0  ...                    0.04   \n",
       "7               0       0    0  ...                    0.06   \n",
       "8               0       0    0  ...                    0.09   \n",
       "9               0       0    0  ...                    0.05   \n",
       "\n",
       "   dst_host_diff_srv_rate  dst_host_same_src_port_rate  \\\n",
       "0                    0.03                         0.17   \n",
       "1                    0.60                         0.88   \n",
       "2                    0.05                         0.00   \n",
       "3                    0.00                         0.03   \n",
       "4                    0.00                         0.00   \n",
       "5                    0.07                         0.00   \n",
       "6                    0.05                         0.00   \n",
       "7                    0.07                         0.00   \n",
       "8                    0.05                         0.00   \n",
       "9                    0.06                         0.00   \n",
       "\n",
       "   dst_host_srv_diff_host_rate  dst_host_serror_rate  \\\n",
       "0                         0.00                  0.00   \n",
       "1                         0.00                  0.00   \n",
       "2                         0.00                  1.00   \n",
       "3                         0.04                  0.03   \n",
       "4                         0.00                  0.00   \n",
       "5                         0.00                  0.00   \n",
       "6                         0.00                  1.00   \n",
       "7                         0.00                  1.00   \n",
       "8                         0.00                  1.00   \n",
       "9                         0.00                  1.00   \n",
       "\n",
       "   dst_host_srv_serror_rate  dst_host_rerror_rate  dst_host_srv_rerror_rate  \\\n",
       "0                      0.00                  0.05                      0.00   \n",
       "1                      0.00                  0.00                      0.00   \n",
       "2                      1.00                  0.00                      0.00   \n",
       "3                      0.01                  0.00                      0.01   \n",
       "4                      0.00                  0.00                      0.00   \n",
       "5                      0.00                  1.00                      1.00   \n",
       "6                      1.00                  0.00                      0.00   \n",
       "7                      1.00                  0.00                      0.00   \n",
       "8                      1.00                  0.00                      0.00   \n",
       "9                      1.00                  0.00                      0.00   \n",
       "\n",
       "   attack type  attack level  \n",
       "0       normal            20  \n",
       "1       normal            15  \n",
       "2      neptune            19  \n",
       "3       normal            21  \n",
       "4       normal            21  \n",
       "5      neptune            21  \n",
       "6      neptune            21  \n",
       "7      neptune            21  \n",
       "8      neptune            21  \n",
       "9      neptune            21  \n",
       "\n",
       "[10 rows x 43 columns]"
      ]
     },
     "execution_count": 59,
     "metadata": {},
     "output_type": "execute_result"
    }
   ],
   "source": [
    "#carregando os dados de treino\n",
    "dados_treino = pd.read_csv(\"dados/KDDTrain+.txt\", header=None)\n",
    "col_names = [\"duration\",\"protocol type\",\"service\",\"flag\",\"src_bytes\",\"dst_bytes\",\n",
    "             \"land\",\"wrong_fragment\",\"urgent\",\"hot\",\"num_failed_logins\",\"logged_in\",\n",
    "             \"num_compromised\",\"root_shell\",\"su_attempted\",\"num_root\",\"num_file_creations\",\"num_shells\",\n",
    "             \"num_access_files\",\"num_outbound_cmds\",\"is_host_login\",\"is_guest_login\",\"count\",\"srv_count\",\n",
    "             \"serror_rate\",\"srv_serror_rate\",\"rerror_rate\",\"srv_rerror_rate\",\"same_srv_rate\",\"diff_srv_rate\",\n",
    "             \"srv_diff_host_rate\",\"dst_host_count\",\"dst_host_srv_count\",\"dst_host_same_srv_rate\",\"dst_host_diff_srv_rate\",\n",
    "             \"dst_host_same_src_port_rate\",\"dst_host_srv_diff_host_rate\",\"dst_host_serror_rate\",\"dst_host_srv_serror_rate\",\n",
    "             \"dst_host_rerror_rate\",\"dst_host_srv_rerror_rate\",\"attack type\",\"attack level\"]\n",
    "dados_treino.columns = col_names\n",
    "dados_treino.head(10)"
   ]
  },
  {
   "cell_type": "code",
   "execution_count": 60,
   "id": "c6e59d55-c166-4e1e-9c1c-749120d3ace5",
   "metadata": {},
   "outputs": [
    {
     "data": {
      "text/plain": [
       "(125973, 43)"
      ]
     },
     "execution_count": 60,
     "metadata": {},
     "output_type": "execute_result"
    }
   ],
   "source": [
    "dados_treino.shape"
   ]
  },
  {
   "cell_type": "code",
   "execution_count": 61,
   "id": "49e22f2c-582e-40b1-8766-3dd05057ed94",
   "metadata": {},
   "outputs": [
    {
     "data": {
      "text/plain": [
       "Series([], dtype: int64)"
      ]
     },
     "execution_count": 61,
     "metadata": {},
     "output_type": "execute_result"
    }
   ],
   "source": [
    "#verificando se há valores nulos\n",
    "dados_treino.isnull().sum()[dados_treino.isnull().sum() > 0]"
   ]
  },
  {
   "cell_type": "code",
   "execution_count": 62,
   "id": "6d046396-4071-4dfe-8f62-dddada8e6c8e",
   "metadata": {},
   "outputs": [
    {
     "data": {
      "text/html": [
       "<div>\n",
       "<style scoped>\n",
       "    .dataframe tbody tr th:only-of-type {\n",
       "        vertical-align: middle;\n",
       "    }\n",
       "\n",
       "    .dataframe tbody tr th {\n",
       "        vertical-align: top;\n",
       "    }\n",
       "\n",
       "    .dataframe thead th {\n",
       "        text-align: right;\n",
       "    }\n",
       "</style>\n",
       "<table border=\"1\" class=\"dataframe\">\n",
       "  <thead>\n",
       "    <tr style=\"text-align: right;\">\n",
       "      <th></th>\n",
       "      <th>duration</th>\n",
       "      <th>src_bytes</th>\n",
       "      <th>dst_bytes</th>\n",
       "      <th>land</th>\n",
       "      <th>wrong_fragment</th>\n",
       "      <th>urgent</th>\n",
       "      <th>hot</th>\n",
       "      <th>num_failed_logins</th>\n",
       "      <th>logged_in</th>\n",
       "      <th>num_compromised</th>\n",
       "      <th>...</th>\n",
       "      <th>dst_host_srv_count</th>\n",
       "      <th>dst_host_same_srv_rate</th>\n",
       "      <th>dst_host_diff_srv_rate</th>\n",
       "      <th>dst_host_same_src_port_rate</th>\n",
       "      <th>dst_host_srv_diff_host_rate</th>\n",
       "      <th>dst_host_serror_rate</th>\n",
       "      <th>dst_host_srv_serror_rate</th>\n",
       "      <th>dst_host_rerror_rate</th>\n",
       "      <th>dst_host_srv_rerror_rate</th>\n",
       "      <th>attack level</th>\n",
       "    </tr>\n",
       "  </thead>\n",
       "  <tbody>\n",
       "    <tr>\n",
       "      <th>count</th>\n",
       "      <td>125973.00000</td>\n",
       "      <td>1.259730e+05</td>\n",
       "      <td>1.259730e+05</td>\n",
       "      <td>125973.000000</td>\n",
       "      <td>125973.000000</td>\n",
       "      <td>125973.000000</td>\n",
       "      <td>125973.000000</td>\n",
       "      <td>125973.000000</td>\n",
       "      <td>125973.000000</td>\n",
       "      <td>125973.000000</td>\n",
       "      <td>...</td>\n",
       "      <td>125973.000000</td>\n",
       "      <td>125973.000000</td>\n",
       "      <td>125973.000000</td>\n",
       "      <td>125973.000000</td>\n",
       "      <td>125973.000000</td>\n",
       "      <td>125973.000000</td>\n",
       "      <td>125973.000000</td>\n",
       "      <td>125973.000000</td>\n",
       "      <td>125973.000000</td>\n",
       "      <td>125973.000000</td>\n",
       "    </tr>\n",
       "    <tr>\n",
       "      <th>mean</th>\n",
       "      <td>287.14465</td>\n",
       "      <td>4.556674e+04</td>\n",
       "      <td>1.977911e+04</td>\n",
       "      <td>0.000198</td>\n",
       "      <td>0.022687</td>\n",
       "      <td>0.000111</td>\n",
       "      <td>0.204409</td>\n",
       "      <td>0.001222</td>\n",
       "      <td>0.395736</td>\n",
       "      <td>0.279250</td>\n",
       "      <td>...</td>\n",
       "      <td>115.653005</td>\n",
       "      <td>0.521242</td>\n",
       "      <td>0.082951</td>\n",
       "      <td>0.148379</td>\n",
       "      <td>0.032542</td>\n",
       "      <td>0.284452</td>\n",
       "      <td>0.278485</td>\n",
       "      <td>0.118832</td>\n",
       "      <td>0.120240</td>\n",
       "      <td>19.504060</td>\n",
       "    </tr>\n",
       "    <tr>\n",
       "      <th>std</th>\n",
       "      <td>2604.51531</td>\n",
       "      <td>5.870331e+06</td>\n",
       "      <td>4.021269e+06</td>\n",
       "      <td>0.014086</td>\n",
       "      <td>0.253530</td>\n",
       "      <td>0.014366</td>\n",
       "      <td>2.149968</td>\n",
       "      <td>0.045239</td>\n",
       "      <td>0.489010</td>\n",
       "      <td>23.942042</td>\n",
       "      <td>...</td>\n",
       "      <td>110.702741</td>\n",
       "      <td>0.448949</td>\n",
       "      <td>0.188922</td>\n",
       "      <td>0.308997</td>\n",
       "      <td>0.112564</td>\n",
       "      <td>0.444784</td>\n",
       "      <td>0.445669</td>\n",
       "      <td>0.306557</td>\n",
       "      <td>0.319459</td>\n",
       "      <td>2.291503</td>\n",
       "    </tr>\n",
       "    <tr>\n",
       "      <th>min</th>\n",
       "      <td>0.00000</td>\n",
       "      <td>0.000000e+00</td>\n",
       "      <td>0.000000e+00</td>\n",
       "      <td>0.000000</td>\n",
       "      <td>0.000000</td>\n",
       "      <td>0.000000</td>\n",
       "      <td>0.000000</td>\n",
       "      <td>0.000000</td>\n",
       "      <td>0.000000</td>\n",
       "      <td>0.000000</td>\n",
       "      <td>...</td>\n",
       "      <td>0.000000</td>\n",
       "      <td>0.000000</td>\n",
       "      <td>0.000000</td>\n",
       "      <td>0.000000</td>\n",
       "      <td>0.000000</td>\n",
       "      <td>0.000000</td>\n",
       "      <td>0.000000</td>\n",
       "      <td>0.000000</td>\n",
       "      <td>0.000000</td>\n",
       "      <td>0.000000</td>\n",
       "    </tr>\n",
       "    <tr>\n",
       "      <th>25%</th>\n",
       "      <td>0.00000</td>\n",
       "      <td>0.000000e+00</td>\n",
       "      <td>0.000000e+00</td>\n",
       "      <td>0.000000</td>\n",
       "      <td>0.000000</td>\n",
       "      <td>0.000000</td>\n",
       "      <td>0.000000</td>\n",
       "      <td>0.000000</td>\n",
       "      <td>0.000000</td>\n",
       "      <td>0.000000</td>\n",
       "      <td>...</td>\n",
       "      <td>10.000000</td>\n",
       "      <td>0.050000</td>\n",
       "      <td>0.000000</td>\n",
       "      <td>0.000000</td>\n",
       "      <td>0.000000</td>\n",
       "      <td>0.000000</td>\n",
       "      <td>0.000000</td>\n",
       "      <td>0.000000</td>\n",
       "      <td>0.000000</td>\n",
       "      <td>18.000000</td>\n",
       "    </tr>\n",
       "    <tr>\n",
       "      <th>50%</th>\n",
       "      <td>0.00000</td>\n",
       "      <td>4.400000e+01</td>\n",
       "      <td>0.000000e+00</td>\n",
       "      <td>0.000000</td>\n",
       "      <td>0.000000</td>\n",
       "      <td>0.000000</td>\n",
       "      <td>0.000000</td>\n",
       "      <td>0.000000</td>\n",
       "      <td>0.000000</td>\n",
       "      <td>0.000000</td>\n",
       "      <td>...</td>\n",
       "      <td>63.000000</td>\n",
       "      <td>0.510000</td>\n",
       "      <td>0.020000</td>\n",
       "      <td>0.000000</td>\n",
       "      <td>0.000000</td>\n",
       "      <td>0.000000</td>\n",
       "      <td>0.000000</td>\n",
       "      <td>0.000000</td>\n",
       "      <td>0.000000</td>\n",
       "      <td>20.000000</td>\n",
       "    </tr>\n",
       "    <tr>\n",
       "      <th>75%</th>\n",
       "      <td>0.00000</td>\n",
       "      <td>2.760000e+02</td>\n",
       "      <td>5.160000e+02</td>\n",
       "      <td>0.000000</td>\n",
       "      <td>0.000000</td>\n",
       "      <td>0.000000</td>\n",
       "      <td>0.000000</td>\n",
       "      <td>0.000000</td>\n",
       "      <td>1.000000</td>\n",
       "      <td>0.000000</td>\n",
       "      <td>...</td>\n",
       "      <td>255.000000</td>\n",
       "      <td>1.000000</td>\n",
       "      <td>0.070000</td>\n",
       "      <td>0.060000</td>\n",
       "      <td>0.020000</td>\n",
       "      <td>1.000000</td>\n",
       "      <td>1.000000</td>\n",
       "      <td>0.000000</td>\n",
       "      <td>0.000000</td>\n",
       "      <td>21.000000</td>\n",
       "    </tr>\n",
       "    <tr>\n",
       "      <th>max</th>\n",
       "      <td>42908.00000</td>\n",
       "      <td>1.379964e+09</td>\n",
       "      <td>1.309937e+09</td>\n",
       "      <td>1.000000</td>\n",
       "      <td>3.000000</td>\n",
       "      <td>3.000000</td>\n",
       "      <td>77.000000</td>\n",
       "      <td>5.000000</td>\n",
       "      <td>1.000000</td>\n",
       "      <td>7479.000000</td>\n",
       "      <td>...</td>\n",
       "      <td>255.000000</td>\n",
       "      <td>1.000000</td>\n",
       "      <td>1.000000</td>\n",
       "      <td>1.000000</td>\n",
       "      <td>1.000000</td>\n",
       "      <td>1.000000</td>\n",
       "      <td>1.000000</td>\n",
       "      <td>1.000000</td>\n",
       "      <td>1.000000</td>\n",
       "      <td>21.000000</td>\n",
       "    </tr>\n",
       "  </tbody>\n",
       "</table>\n",
       "<p>8 rows × 39 columns</p>\n",
       "</div>"
      ],
      "text/plain": [
       "           duration     src_bytes     dst_bytes           land  \\\n",
       "count  125973.00000  1.259730e+05  1.259730e+05  125973.000000   \n",
       "mean      287.14465  4.556674e+04  1.977911e+04       0.000198   \n",
       "std      2604.51531  5.870331e+06  4.021269e+06       0.014086   \n",
       "min         0.00000  0.000000e+00  0.000000e+00       0.000000   \n",
       "25%         0.00000  0.000000e+00  0.000000e+00       0.000000   \n",
       "50%         0.00000  4.400000e+01  0.000000e+00       0.000000   \n",
       "75%         0.00000  2.760000e+02  5.160000e+02       0.000000   \n",
       "max     42908.00000  1.379964e+09  1.309937e+09       1.000000   \n",
       "\n",
       "       wrong_fragment         urgent            hot  num_failed_logins  \\\n",
       "count   125973.000000  125973.000000  125973.000000      125973.000000   \n",
       "mean         0.022687       0.000111       0.204409           0.001222   \n",
       "std          0.253530       0.014366       2.149968           0.045239   \n",
       "min          0.000000       0.000000       0.000000           0.000000   \n",
       "25%          0.000000       0.000000       0.000000           0.000000   \n",
       "50%          0.000000       0.000000       0.000000           0.000000   \n",
       "75%          0.000000       0.000000       0.000000           0.000000   \n",
       "max          3.000000       3.000000      77.000000           5.000000   \n",
       "\n",
       "           logged_in  num_compromised  ...  dst_host_srv_count  \\\n",
       "count  125973.000000    125973.000000  ...       125973.000000   \n",
       "mean        0.395736         0.279250  ...          115.653005   \n",
       "std         0.489010        23.942042  ...          110.702741   \n",
       "min         0.000000         0.000000  ...            0.000000   \n",
       "25%         0.000000         0.000000  ...           10.000000   \n",
       "50%         0.000000         0.000000  ...           63.000000   \n",
       "75%         1.000000         0.000000  ...          255.000000   \n",
       "max         1.000000      7479.000000  ...          255.000000   \n",
       "\n",
       "       dst_host_same_srv_rate  dst_host_diff_srv_rate  \\\n",
       "count           125973.000000           125973.000000   \n",
       "mean                 0.521242                0.082951   \n",
       "std                  0.448949                0.188922   \n",
       "min                  0.000000                0.000000   \n",
       "25%                  0.050000                0.000000   \n",
       "50%                  0.510000                0.020000   \n",
       "75%                  1.000000                0.070000   \n",
       "max                  1.000000                1.000000   \n",
       "\n",
       "       dst_host_same_src_port_rate  dst_host_srv_diff_host_rate  \\\n",
       "count                125973.000000                125973.000000   \n",
       "mean                      0.148379                     0.032542   \n",
       "std                       0.308997                     0.112564   \n",
       "min                       0.000000                     0.000000   \n",
       "25%                       0.000000                     0.000000   \n",
       "50%                       0.000000                     0.000000   \n",
       "75%                       0.060000                     0.020000   \n",
       "max                       1.000000                     1.000000   \n",
       "\n",
       "       dst_host_serror_rate  dst_host_srv_serror_rate  dst_host_rerror_rate  \\\n",
       "count         125973.000000             125973.000000         125973.000000   \n",
       "mean               0.284452                  0.278485              0.118832   \n",
       "std                0.444784                  0.445669              0.306557   \n",
       "min                0.000000                  0.000000              0.000000   \n",
       "25%                0.000000                  0.000000              0.000000   \n",
       "50%                0.000000                  0.000000              0.000000   \n",
       "75%                1.000000                  1.000000              0.000000   \n",
       "max                1.000000                  1.000000              1.000000   \n",
       "\n",
       "       dst_host_srv_rerror_rate   attack level  \n",
       "count             125973.000000  125973.000000  \n",
       "mean                   0.120240      19.504060  \n",
       "std                    0.319459       2.291503  \n",
       "min                    0.000000       0.000000  \n",
       "25%                    0.000000      18.000000  \n",
       "50%                    0.000000      20.000000  \n",
       "75%                    0.000000      21.000000  \n",
       "max                    1.000000      21.000000  \n",
       "\n",
       "[8 rows x 39 columns]"
      ]
     },
     "execution_count": 62,
     "metadata": {},
     "output_type": "execute_result"
    }
   ],
   "source": [
    "#resumo estatístico básico dos atributos\n",
    "dados_treino.describe()"
   ]
  },
  {
   "cell_type": "code",
   "execution_count": 63,
   "id": "03888d8f-e197-4ce7-9ccd-ee38de597045",
   "metadata": {},
   "outputs": [
    {
     "data": {
      "text/plain": [
       "0"
      ]
     },
     "execution_count": 63,
     "metadata": {},
     "output_type": "execute_result"
    }
   ],
   "source": [
    "#verificando se há valores duplicados\n",
    "dados_treino.duplicated().sum()"
   ]
  },
  {
   "cell_type": "code",
   "execution_count": 64,
   "id": "d76446db-f66c-4c3b-b7c7-8b05402c6f11",
   "metadata": {},
   "outputs": [
    {
     "data": {
      "text/plain": [
       "normal             67343\n",
       "neptune            41214\n",
       "satan               3633\n",
       "ipsweep             3599\n",
       "portsweep           2931\n",
       "smurf               2646\n",
       "nmap                1493\n",
       "back                 956\n",
       "teardrop             892\n",
       "warezclient          890\n",
       "pod                  201\n",
       "guess_passwd          53\n",
       "buffer_overflow       30\n",
       "warezmaster           20\n",
       "land                  18\n",
       "imap                  11\n",
       "rootkit               10\n",
       "loadmodule             9\n",
       "ftp_write              8\n",
       "multihop               7\n",
       "phf                    4\n",
       "perl                   3\n",
       "spy                    2\n",
       "Name: attack type, dtype: int64"
      ]
     },
     "execution_count": 64,
     "metadata": {},
     "output_type": "execute_result"
    }
   ],
   "source": [
    "#quantidade de registros por tipo de ataque\n",
    "dados_treino[\"attack type\"].value_counts()"
   ]
  },
  {
   "cell_type": "code",
   "execution_count": 65,
   "id": "38cab39a-376d-42a6-a5c3-539e5e00a0b7",
   "metadata": {},
   "outputs": [],
   "source": [
    "#dicionario para mapear os tipos de ataque - incluindo os que estão no dataset de teste\n",
    "#0 - normal\n",
    "#1 - DoS\n",
    "#2 - Probe\n",
    "#3 - U2R\n",
    "#4 - R2L\n",
    "dic_ataques = {\n",
    "    \"normal\": 0,\n",
    "    \"apache2\": 1,\n",
    "    \"back\": 1,\n",
    "    \"land\": 1,\n",
    "    \"neptune\": 1,\n",
    "    \"mailbomb\": 1,\n",
    "    \"pod\": 1,\n",
    "    \"processtable\": 1,\n",
    "    \"smurf\": 1,\n",
    "    \"teardrop\": 1,\n",
    "    \"udpstorm\": 1,\n",
    "    \"worm\": 1,\n",
    "    \"ipsweep\": 2,\n",
    "    \"mscan\": 2,\n",
    "    \"nmap\": 2,\n",
    "    \"portsweep\": 2,\n",
    "    \"saint\": 2,\n",
    "    \"satan\": 2,\n",
    "    \"buffer_overflow\": 3,\n",
    "    \"loadmodule\": 3,\n",
    "    \"perl\": 3,\n",
    "    \"ps\": 3,\n",
    "    \"rootkit\": 3,\n",
    "    \"sqlattack\": 3,\n",
    "    \"xterm\": 3,\n",
    "    \"ftp_write\": 4,\n",
    "    \"guess_passwd\": 4,\n",
    "    \"httptunnel\": 4,\n",
    "    \"imap\": 4,\n",
    "    \"multihop\": 4,\n",
    "    \"named\": 4,\n",
    "    \"phf\": 4,\n",
    "    \"sendmail\": 4,\n",
    "    \"snmpgetattack\": 4,\n",
    "    \"spy\": 4,\n",
    "    \"snmpguess\": 4,\n",
    "    \"warezclient\": 4,\n",
    "    \"warezmaster\": 4,\n",
    "    \"xlock\": 4,\n",
    "    \"xsnoop\": 4\n",
    "}"
   ]
  },
  {
   "cell_type": "code",
   "execution_count": 66,
   "id": "1ce829fd-0126-4290-9918-c3cd404c0b99",
   "metadata": {},
   "outputs": [
    {
     "data": {
      "text/plain": [
       "0    67343\n",
       "1    45927\n",
       "2    11656\n",
       "4      995\n",
       "3       52\n",
       "Name: attack type, dtype: int64"
      ]
     },
     "execution_count": 66,
     "metadata": {},
     "output_type": "execute_result"
    }
   ],
   "source": [
    "#mapeando os ataques e verificando a contagem\n",
    "dados_treino[\"attack type\"] = dados_treino[\"attack type\"].map(dic_ataques)\n",
    "dados_treino[\"attack type\"].value_counts()"
   ]
  },
  {
   "cell_type": "code",
   "execution_count": 72,
   "id": "9954fa39-5981-4edd-8f7d-8cfbec622721",
   "metadata": {},
   "outputs": [
    {
     "data": {
      "image/png": "[encoded data removed]",
      "text/plain": [
       "<Figure size 864x576 with 1 Axes>"
      ]
     },
     "metadata": {
      "needs_background": "light"
     },
     "output_type": "display_data"
    }
   ],
   "source": [
    "plt.figure(figsize=(12,8))\n",
    "splot = sns.barplot(x = [\"Normal\",\"DoS\",\"Probe\",\"R2L\",\"U2R\"], y = dados_treino[\"attack type\"].value_counts())\n",
    "plt.ylabel(\"Total\")\n",
    "plt.xticks(fontsize = 12)\n",
    "for p in splot.patches:\n",
    "    splot.annotate(format(p.get_height()), \n",
    "                   (p.get_x() + p.get_width() / 2., p.get_height()), \n",
    "                   ha = 'center', va = 'center', \n",
    "                   xytext = (0, 9), \n",
    "                   textcoords = 'offset points', fontsize = 12)"
   ]
  },
  {
   "cell_type": "code",
   "execution_count": 10,
   "id": "ca86e4b5-9e43-41ab-8b31-75fee1467b60",
   "metadata": {},
   "outputs": [
    {
     "data": {
      "text/plain": [
       "duration                       2981\n",
       "protocol type                     3\n",
       "service                          70\n",
       "flag                             11\n",
       "src_bytes                      3341\n",
       "dst_bytes                      9326\n",
       "land                              2\n",
       "wrong_fragment                    3\n",
       "urgent                            4\n",
       "hot                              28\n",
       "num_failed_logins                 6\n",
       "logged_in                         2\n",
       "num_compromised                  88\n",
       "root_shell                        2\n",
       "su_attempted                      3\n",
       "num_root                         82\n",
       "num_file_creations               35\n",
       "num_shells                        3\n",
       "num_access_files                 10\n",
       "num_outbound_cmds                 1\n",
       "is_host_login                     2\n",
       "is_guest_login                    2\n",
       "count                           512\n",
       "srv_count                       509\n",
       "serror_rate                      89\n",
       "srv_serror_rate                  86\n",
       "rerror_rate                      82\n",
       "srv_rerror_rate                  62\n",
       "same_srv_rate                   101\n",
       "diff_srv_rate                    95\n",
       "srv_diff_host_rate               60\n",
       "dst_host_count                  256\n",
       "dst_host_srv_count              256\n",
       "dst_host_same_srv_rate          101\n",
       "dst_host_diff_srv_rate          101\n",
       "dst_host_same_src_port_rate     101\n",
       "dst_host_srv_diff_host_rate      75\n",
       "dst_host_serror_rate            101\n",
       "dst_host_srv_serror_rate        100\n",
       "dst_host_rerror_rate            101\n",
       "dst_host_srv_rerror_rate        101\n",
       "attack type                       5\n",
       "attack level                     22\n",
       "dtype: int64"
      ]
     },
     "execution_count": 10,
     "metadata": {},
     "output_type": "execute_result"
    }
   ],
   "source": [
    "#contagem de valores distintos por coluna\n",
    "dados_treino.nunique()"
   ]
  },
  {
   "cell_type": "code",
   "execution_count": 11,
   "id": "f4cc44ad-f5b1-4b2c-875e-df3711af5f97",
   "metadata": {},
   "outputs": [
    {
     "data": {
      "image/png": "[encoded data removed]",
      "text/plain": [
       "<Figure size 864x576 with 1 Axes>"
      ]
     },
     "metadata": {
      "needs_background": "light"
     },
     "output_type": "display_data"
    }
   ],
   "source": [
    "plt.figure(figsize=(12,8))\n",
    "plt.title(\"Média de Source Bytes por tipo de ataque\", fontsize = 16)\n",
    "splot = sns.barplot(x = dados_treino.groupby(\"attack type\")[\"src_bytes\"].mean().index, y = dados_treino.groupby(\"attack type\")[\"src_bytes\"].mean())\n",
    "for p in splot.patches:\n",
    "    splot.annotate(format(p.get_height(), '.1f'), \n",
    "                   (p.get_x() + p.get_width() / 2., p.get_height()), \n",
    "                   ha = 'center', va = 'center', \n",
    "                   xytext = (0, 9), \n",
    "                   textcoords = 'offset points', fontsize = 12)"
   ]
  },
  {
   "cell_type": "code",
   "execution_count": 12,
   "id": "943f4ce5-e8e1-4b69-8c86-d29b42b3272b",
   "metadata": {},
   "outputs": [
    {
     "data": {
      "image/png": "[encoded data removed]",
      "text/plain": [
       "<Figure size 864x576 with 1 Axes>"
      ]
     },
     "metadata": {
      "needs_background": "light"
     },
     "output_type": "display_data"
    }
   ],
   "source": [
    "plt.figure(figsize=(12,8))\n",
    "plt.title(\"Média de Destination Bytes por tipo de ataque\", fontsize = 16)\n",
    "splot = sns.barplot(x = dados_treino.groupby(\"attack type\")[\"dst_bytes\"].mean().index, y = dados_treino.groupby(\"attack type\")[\"dst_bytes\"].mean())\n",
    "for p in splot.patches:\n",
    "    splot.annotate(format(p.get_height(), '.1f'), \n",
    "                   (p.get_x() + p.get_width() / 2., p.get_height()), \n",
    "                   ha = 'center', va = 'center', \n",
    "                   xytext = (0, 9), \n",
    "                   textcoords = 'offset points', fontsize = 12)"
   ]
  },
  {
   "cell_type": "code",
   "execution_count": 13,
   "id": "cef3561d-7b12-4050-b18f-49bf39f236cd",
   "metadata": {},
   "outputs": [
    {
     "data": {
      "text/plain": [
       "<matplotlib.legend.Legend at 0x7f280ca1c2e0>"
      ]
     },
     "execution_count": 13,
     "metadata": {},
     "output_type": "execute_result"
    },
    {
     "data": {
      "image/png": "[encoded data removed]",
      "text/plain": [
       "<Figure size 864x576 with 1 Axes>"
      ]
     },
     "metadata": {},
     "output_type": "display_data"
    }
   ],
   "source": [
    "plt.figure(figsize=(12,8))\n",
    "plt.title(\"Proporção de ataques por tipo de Flag\", fontsize = 16)\n",
    "plt.pie(dados_treino[dados_treino[\"attack type\"] != 0][\"flag\"].value_counts())\n",
    "plt.legend(dados_treino[dados_treino[\"attack type\"] != 0][\"flag\"].value_counts().index, loc='upper right')"
   ]
  },
  {
   "cell_type": "code",
   "execution_count": 14,
   "id": "c8360b5a-f4da-4906-8720-50abc136083c",
   "metadata": {},
   "outputs": [
    {
     "data": {
      "text/plain": [
       "OTH        76.086957\n",
       "REJ        76.025995\n",
       "RSTO       85.979513\n",
       "RSTOS0    100.000000\n",
       "RSTR       93.969434\n",
       "S0         98.984247\n",
       "S1          1.095890\n",
       "S2          6.299213\n",
       "S3          8.163265\n",
       "SF         15.413970\n",
       "SH         99.261993\n",
       "Name: flag, dtype: float64"
      ]
     },
     "execution_count": 14,
     "metadata": {},
     "output_type": "execute_result"
    }
   ],
   "source": [
    "#porcentagem representativa da proporção de ataques por flag\n",
    "(dados_treino[dados_treino[\"attack type\"] != 0][\"flag\"].value_counts() / dados_treino[\"flag\"].value_counts()) * 100"
   ]
  },
  {
   "cell_type": "code",
   "execution_count": 15,
   "id": "cd971533-e1a0-4660-bbdc-b225ce4d3bce",
   "metadata": {},
   "outputs": [
    {
     "data": {
      "text/plain": [
       "<matplotlib.legend.Legend at 0x7f280c9445e0>"
      ]
     },
     "execution_count": 15,
     "metadata": {},
     "output_type": "execute_result"
    },
    {
     "data": {
      "image/png": "[encoded data removed]",
      "text/plain": [
       "<Figure size 864x576 with 1 Axes>"
      ]
     },
     "metadata": {},
     "output_type": "display_data"
    }
   ],
   "source": [
    "plt.figure(figsize=(12,8))\n",
    "plt.title(\"Proporção de ataques por tipo de Protocolo\", fontsize = 16)\n",
    "plt.pie(dados_treino[dados_treino[\"attack type\"] != 0][\"protocol type\"].value_counts())\n",
    "plt.legend(dados_treino[dados_treino[\"attack type\"] != 0][\"protocol type\"].value_counts().index, loc='upper right')"
   ]
  },
  {
   "cell_type": "code",
   "execution_count": 16,
   "id": "3f9fdde1-96dc-4962-9181-8cb37fdf000f",
   "metadata": {},
   "outputs": [
    {
     "data": {
      "text/plain": [
       "icmp    84.211796\n",
       "tcp     47.803562\n",
       "udp     17.067965\n",
       "Name: protocol type, dtype: float64"
      ]
     },
     "execution_count": 16,
     "metadata": {},
     "output_type": "execute_result"
    }
   ],
   "source": [
    "#porcentagem representativa da proporção de ataques por protocolo\n",
    "(dados_treino[dados_treino[\"attack type\"] != 0][\"protocol type\"].value_counts() / dados_treino[\"protocol type\"].value_counts()) * 100"
   ]
  },
  {
   "cell_type": "code",
   "execution_count": 17,
   "id": "a7a2a5a8-331d-4470-a639-d7c474119913",
   "metadata": {},
   "outputs": [
    {
     "name": "stdout",
     "output_type": "stream",
     "text": [
      "Número médio de conexões com o mesmo host de destino que a conexão atual nos últimos dois segundos\n",
      "Sem ataque:  22.517945443475938\n",
      "Com ataque:  154.8499914719427\n"
     ]
    }
   ],
   "source": [
    "print(\"Número médio de conexões com o mesmo host de destino que a conexão atual nos últimos dois segundos\")\n",
    "print(\"Sem ataque: \",dados_treino[dados_treino[\"attack type\"] == 0][\"count\"].mean())\n",
    "print(\"Com ataque: \",dados_treino[dados_treino[\"attack type\"] != 0][\"count\"].mean())"
   ]
  },
  {
   "cell_type": "code",
   "execution_count": 18,
   "id": "24c86637-c582-4876-b004-68a6d7ec2df9",
   "metadata": {},
   "outputs": [
    {
     "name": "stdout",
     "output_type": "stream",
     "text": [
      "A porcentagem de conexões que foram para o mesmo serviço, entre as conexões agregadas em contagem\n",
      "Sem ataque:  96.9360141365838\n",
      "Com ataque:  30.66590482688391\n"
     ]
    }
   ],
   "source": [
    "print(\"A porcentagem de conexões que foram para o mesmo serviço, entre as conexões agregadas em contagem\")\n",
    "print(\"Sem ataque: \",dados_treino[dados_treino[\"attack type\"] == 0][\"same_srv_rate\"].mean() * 100)\n",
    "print(\"Com ataque: \",dados_treino[dados_treino[\"attack type\"] != 0][\"same_srv_rate\"].mean() * 100)"
   ]
  },
  {
   "cell_type": "code",
   "execution_count": 19,
   "id": "0a4f72bb-c93e-4965-9a9a-c182a982089d",
   "metadata": {},
   "outputs": [
    {
     "name": "stdout",
     "output_type": "stream",
     "text": [
      "A porcentagem média de conexões que foram para serviços diferentes, entre as conexões agregadas na contagem\n",
      "Sem ataque:  2.878784728925027\n",
      "Com ataque:  10.240951731199127\n"
     ]
    }
   ],
   "source": [
    "print(\"A porcentagem média de conexões que foram para serviços diferentes, entre as conexões agregadas na contagem\")\n",
    "print(\"Sem ataque: \",dados_treino[dados_treino[\"attack type\"] == 0][\"diff_srv_rate\"].mean() * 100)\n",
    "print(\"Com ataque: \",dados_treino[dados_treino[\"attack type\"] != 0][\"diff_srv_rate\"].mean() * 100)"
   ]
  },
  {
   "cell_type": "code",
   "execution_count": 20,
   "id": "c82a9479-b69d-48c5-a8e5-e0b86754b944",
   "metadata": {},
   "outputs": [
    {
     "data": {
      "text/plain": [
       "100.000000    44\n",
       "0.534759       1\n",
       "99.536321      1\n",
       "88.379205      1\n",
       "37.500000      1\n",
       "61.028474      1\n",
       "98.392283      1\n",
       "3.883495       1\n",
       "93.846154      1\n",
       "95.506338      1\n",
       "29.545455      1\n",
       "40.261528      1\n",
       "5.674550       1\n",
       "8.219178       1\n",
       "27.346939      1\n",
       "47.662486      1\n",
       "69.156763      1\n",
       "93.825154      1\n",
       "89.162669      1\n",
       "0.099524       1\n",
       "93.321617      1\n",
       "75.287958      1\n",
       "0.498339       1\n",
       "Name: service, dtype: int64"
      ]
     },
     "execution_count": 20,
     "metadata": {},
     "output_type": "execute_result"
    }
   ],
   "source": [
    "#propensão de serviços estarem relacionados com ataque\n",
    "#44 estão 100% ligados a ataques\n",
    "services_p = (dados_treino[dados_treino[\"attack type\"] != 0][\"service\"].value_counts() / dados_treino[\"service\"].value_counts()) * 100\n",
    "services_p.value_counts()"
   ]
  },
  {
   "cell_type": "code",
   "execution_count": 21,
   "id": "9a49d221-6ea9-4cd7-9a27-a2aa20000e4e",
   "metadata": {},
   "outputs": [
    {
     "data": {
      "image/png": "[encoded data removed]",
      "text/plain": [
       "<Figure size 864x432 with 1 Axes>"
      ]
     },
     "metadata": {
      "needs_background": "light"
     },
     "output_type": "display_data"
    }
   ],
   "source": [
    "df_duration = pd.DataFrame({\"attack\": [str(label) for label in dados_treino.groupby(\"attack type\")[\"duration\"].mean().index],\n",
    "                            \"duration_mean\": dados_treino.groupby(\"attack type\")[\"duration\"].mean()})\n",
    "plt.figure(figsize=(12,6))\n",
    "plt.title(\"Média de Duração da Conexão (em segundos) por tipo de ataque\", fontsize = 16)\n",
    "splot = sns.barplot(x='duration_mean', y='attack', data=df_duration)\n",
    "for p in splot.patches:\n",
    "    splot.annotate(format(p.get_width(), '.1f'), \n",
    "                   (p.get_x() + p.get_width(),p.get_y() + p.get_height()/1.5), \n",
    "                   ha = 'left', va = 'center', \n",
    "                   xytext = (0, 9), \n",
    "                   textcoords = 'offset points', fontsize = 12)"
   ]
  },
  {
   "cell_type": "markdown",
   "id": "9bfd4e2c-7c7e-48d2-a211-6a2134a1b20b",
   "metadata": {},
   "source": [
    "# **Feature Engineering**"
   ]
  },
  {
   "cell_type": "code",
   "execution_count": 22,
   "id": "14b5df44-9e85-46fe-9f30-93edbbc3dc83",
   "metadata": {},
   "outputs": [
    {
     "name": "stdout",
     "output_type": "stream",
     "text": [
      "       protocol type   service flag\n",
      "0                tcp  ftp_data   SF\n",
      "1                udp     other   SF\n",
      "2                tcp   private   S0\n",
      "3                tcp      http   SF\n",
      "4                tcp      http   SF\n",
      "...              ...       ...  ...\n",
      "125968           tcp   private   S0\n",
      "125969           udp   private   SF\n",
      "125970           tcp      smtp   SF\n",
      "125971           tcp    klogin   S0\n",
      "125972           tcp  ftp_data   SF\n",
      "\n",
      "[125973 rows x 3 columns]\n"
     ]
    }
   ],
   "source": [
    "#trabalhando com a seleção de atributos\n",
    "#primeiramente, aplicar a técnica de mutual information\n",
    "#para isso, os dados categóricos devem ser convertidos para numéricos\n",
    "treino_copy = dados_treino.copy()\n",
    "treino_copy.pop(\"attack level\")\n",
    "target_copy = treino_copy.pop(\"attack type\")\n",
    "\n",
    "print(treino_copy.select_dtypes(\"object\"))\n",
    "for column in treino_copy.select_dtypes(\"object\"):\n",
    "    treino_copy[column], _ = treino_copy[column].factorize()"
   ]
  },
  {
   "cell_type": "code",
   "execution_count": 23,
   "id": "6b92302e-d45c-492b-876c-049cedc01d98",
   "metadata": {},
   "outputs": [],
   "source": [
    "#função para gerar os MI scores\n",
    "def make_mi_scores(X, y):\n",
    "    mi_scores = mutual_info_classif(X, y)\n",
    "    mi_scores = pd.Series(mi_scores, name=\"MI Scores\", index=X.columns)\n",
    "    mi_scores = mi_scores.sort_values(ascending=False)\n",
    "    return mi_scores"
   ]
  },
  {
   "cell_type": "code",
   "execution_count": 24,
   "id": "257bb3f8-7ac2-4fe1-921d-a3794a3b9fdc",
   "metadata": {},
   "outputs": [],
   "source": [
    "mi_scores = make_mi_scores(treino_copy, target_copy)"
   ]
  },
  {
   "cell_type": "code",
   "execution_count": 25,
   "id": "aa5cad2d-19c2-483a-b897-676ca9fd30de",
   "metadata": {},
   "outputs": [
    {
     "data": {
      "image/png": "[encoded data removed]",
      "text/plain": [
       "<Figure size 2000x1200 with 1 Axes>"
      ]
     },
     "metadata": {
      "needs_background": "light"
     },
     "output_type": "display_data"
    }
   ],
   "source": [
    "def plot_scores(scores):\n",
    "    scores = scores.sort_values(ascending=True)\n",
    "    width = np.arange(len(scores))\n",
    "    ticks = list(scores.index)\n",
    "    plt.barh(width, scores)\n",
    "    plt.yticks(width, ticks)\n",
    "    plt.title(\"Scores\")\n",
    "    plt.grid()\n",
    "\n",
    "plt.figure(dpi=100, figsize=(20, 12))\n",
    "plot_scores(mi_scores)"
   ]
  },
  {
   "cell_type": "code",
   "execution_count": 26,
   "id": "50f5cc22-7c5b-4cbb-bc6f-02802278cad5",
   "metadata": {},
   "outputs": [],
   "source": [
    "#agora gerar a importancia de features para um modelo de machine learning\n",
    "#neste caso, vai ser utilizado o random forest classifier do sklearn\n",
    "#a estratégia é a mesma adotada para mutual information\n",
    "def rf_feature_importance(X,y):\n",
    "    RFC = RandomForestClassifier()\n",
    "    RFC.fit(X,y)\n",
    "    importance = RFC.feature_importances_\n",
    "    importance = pd.Series(importance, name=\"Importance Scores\", index=X.columns)\n",
    "    importance = importance.sort_values(ascending=False)\n",
    "    return importance"
   ]
  },
  {
   "cell_type": "code",
   "execution_count": 27,
   "id": "58623fb8-6e5b-4ff8-a46c-1be410674e95",
   "metadata": {},
   "outputs": [],
   "source": [
    "rf_importance = rf_feature_importance(treino_copy, target_copy)"
   ]
  },
  {
   "cell_type": "code",
   "execution_count": 28,
   "id": "40bc7f88-3af3-4b69-acf0-456ba634e6fe",
   "metadata": {},
   "outputs": [
    {
     "data": {
      "image/png": "[encoded data removed]",
      "text/plain": [
       "<Figure size 2000x1200 with 1 Axes>"
      ]
     },
     "metadata": {
      "needs_background": "light"
     },
     "output_type": "display_data"
    }
   ],
   "source": [
    "plt.figure(dpi=100, figsize=(20, 12))\n",
    "plot_scores(rf_importance)"
   ]
  },
  {
   "cell_type": "markdown",
   "id": "91b73ad7-cafc-467a-9c22-6cc7c264c512",
   "metadata": {},
   "source": [
    "## **Feature Selection**"
   ]
  },
  {
   "cell_type": "code",
   "execution_count": 29,
   "id": "c868fd9e-48fc-468c-9af1-c6769a947b5e",
   "metadata": {},
   "outputs": [],
   "source": [
    "#dados de treino\n",
    "atributos_selecionados = [\"src_bytes\",\"flag\",\"protocol type\",\"count\",\"dst_bytes\",\"duration\",\n",
    "                          \"diff_srv_rate\",\"same_srv_rate\"]\n",
    "x_train = dados_treino.loc[:,atributos_selecionados]\n",
    "y_train = dados_treino[\"attack type\"]"
   ]
  },
  {
   "cell_type": "code",
   "execution_count": 30,
   "id": "264832b8-f0ea-4f58-b6ad-abc4dec11166",
   "metadata": {},
   "outputs": [],
   "source": [
    "#dados de teste\n",
    "dados_teste = pd.read_csv(\"dados/KDDTest+.txt\", header=None)\n",
    "dados_teste.columns = col_names\n",
    "\n",
    "dados_teste[\"attack type\"] = dados_teste[\"attack type\"].map(dic_ataques)\n",
    "x_test = dados_teste.loc[:,atributos_selecionados]\n",
    "y_test = dados_teste[\"attack type\"]"
   ]
  },
  {
   "cell_type": "code",
   "execution_count": 31,
   "id": "6d594c28-3228-40ab-af76-ce7a8a6ebb1b",
   "metadata": {},
   "outputs": [],
   "source": [
    "#criando os processors\n",
    "categorical_cols = [column for column in x_train.select_dtypes(\"object\")]\n",
    "numerical_cols = list(set(atributos_selecionados) - set(categorical_cols))\n",
    "\n",
    "numerical_transformer = MinMaxScaler()\n",
    "\n",
    "categorical_transformer = OneHotEncoder(handle_unknown='ignore',sparse=False)\n",
    "\n",
    "preprocessor = ColumnTransformer(transformers=[\n",
    "            ('num', numerical_transformer, numerical_cols),\n",
    "            ('cat', categorical_transformer, categorical_cols)\n",
    "            ])"
   ]
  },
  {
   "cell_type": "markdown",
   "id": "35612df8-3788-4494-9094-219a03919832",
   "metadata": {},
   "source": [
    "# **Criação dos Modelos**"
   ]
  },
  {
   "cell_type": "code",
   "execution_count": 32,
   "id": "5b0a1f07-b2f2-460c-81be-5e6b113e575e",
   "metadata": {},
   "outputs": [],
   "source": [
    "#Serão construídos os modelos a partir dos algoritmos de classificação:\n",
    "#decision tree, Random Forest e support vector machines\n",
    "tree_model = DecisionTreeClassifier(random_state=0)\n",
    "rf_model = RandomForestClassifier(random_state=0)\n",
    "svm_model = SVC(random_state=0)"
   ]
  },
  {
   "cell_type": "code",
   "execution_count": 33,
   "id": "7b1b5ff1-f635-4686-8c39-3ab6c6071f3e",
   "metadata": {},
   "outputs": [],
   "source": [
    "#criando os pipelines\n",
    "tree_pipeline = Pipeline(steps=[('preprocessor', preprocessor),('model', tree_model)])\n",
    "rf_pipeline = Pipeline(steps=[('preprocessor', preprocessor),('model', rf_model)])\n",
    "svm_pipeline = Pipeline(steps=[('preprocessor', preprocessor),('model', svm_model)])"
   ]
  },
  {
   "cell_type": "code",
   "execution_count": 34,
   "id": "234072a1-a7aa-44d0-a1c6-17a4ff733222",
   "metadata": {},
   "outputs": [],
   "source": [
    "#treinando os modelos e gerando as previsões\n",
    "tree_pipeline.fit(x_train,y_train)\n",
    "tree_predictions = tree_pipeline.predict(x_test)\n",
    "\n",
    "rf_pipeline.fit(x_train,y_train)\n",
    "rf_predictions = rf_pipeline.predict(x_test)\n",
    "\n",
    "svm_pipeline.fit(x_train,y_train)\n",
    "svm_predictions = svm_pipeline.predict(x_test)"
   ]
  },
  {
   "cell_type": "code",
   "execution_count": 35,
   "id": "c986bb42-590c-4150-8a37-c6e48c700d97",
   "metadata": {},
   "outputs": [
    {
     "name": "stdout",
     "output_type": "stream",
     "text": [
      "Resultados Decision Tree:\n",
      "0.7700940383250532\n",
      "(array([0.67197724, 0.96555521, 0.8463035 , 0.92307692, 0.22727273]), array([0.97291731, 0.82292225, 0.71871128, 0.35820896, 0.0034662 ]), array([0.79491818, 0.88855117, 0.77730623, 0.51612903, 0.00682827]), array([9711, 7460, 2421,   67, 2885]))\n",
      "              precision    recall  f1-score   support\n",
      "\n",
      "           0       0.67      0.97      0.79      9711\n",
      "           1       0.97      0.82      0.89      7460\n",
      "           2       0.85      0.72      0.78      2421\n",
      "           3       0.92      0.36      0.52        67\n",
      "           4       0.23      0.00      0.01      2885\n",
      "\n",
      "    accuracy                           0.77     22544\n",
      "   macro avg       0.73      0.58      0.60     22544\n",
      "weighted avg       0.73      0.77      0.72     22544\n",
      "\n"
     ]
    }
   ],
   "source": [
    "#métricas de avaliação\n",
    "print(\"Resultados Decision Tree:\")\n",
    "print(accuracy_score(y_test, tree_predictions))\n",
    "print(precision_recall_fscore_support(y_test, tree_predictions))\n",
    "print(classification_report(y_test, tree_predictions))"
   ]
  },
  {
   "cell_type": "code",
   "execution_count": 36,
   "id": "823227f2-c1bf-43e2-91f9-30b37cfd550a",
   "metadata": {},
   "outputs": [
    {
     "name": "stdout",
     "output_type": "stream",
     "text": [
      "Resultados Random Forest:\n",
      "0.7626419446415897\n",
      "(array([0.66072552, 0.96598203, 0.8665652 , 0.83333333, 0.25      ]), array([0.97343219, 0.80697051, 0.7054936 , 0.07462687, 0.00242634]), array([0.78715963, 0.8793456 , 0.77777778, 0.1369863 , 0.00480604]), array([9711, 7460, 2421,   67, 2885]))\n",
      "              precision    recall  f1-score   support\n",
      "\n",
      "           0       0.66      0.97      0.79      9711\n",
      "           1       0.97      0.81      0.88      7460\n",
      "           2       0.87      0.71      0.78      2421\n",
      "           3       0.83      0.07      0.14        67\n",
      "           4       0.25      0.00      0.00      2885\n",
      "\n",
      "    accuracy                           0.76     22544\n",
      "   macro avg       0.72      0.51      0.52     22544\n",
      "weighted avg       0.73      0.76      0.71     22544\n",
      "\n"
     ]
    }
   ],
   "source": [
    "print(\"Resultados Random Forest:\")\n",
    "print(accuracy_score(y_test, rf_predictions))\n",
    "print(precision_recall_fscore_support(y_test, rf_predictions))\n",
    "print(classification_report(y_test, rf_predictions))"
   ]
  },
  {
   "cell_type": "code",
   "execution_count": 37,
   "id": "b2777ffc-8fc9-4ab1-9091-d29d25a6526e",
   "metadata": {},
   "outputs": [
    {
     "name": "stdout",
     "output_type": "stream",
     "text": [
      "Resultados Support Vector Machines:\n",
      "0.7416607523066004\n",
      "(array([0.66433811, 0.96953689, 0.66823529, 0.        , 0.        ]), array([0.97930182, 0.73806971, 0.70384139, 0.        , 0.        ]), array([0.79164239, 0.83811553, 0.68557634, 0.        , 0.        ]), array([9711, 7460, 2421,   67, 2885]))\n",
      "              precision    recall  f1-score   support\n",
      "\n",
      "           0       0.66      0.98      0.79      9711\n",
      "           1       0.97      0.74      0.84      7460\n",
      "           2       0.67      0.70      0.69      2421\n",
      "           3       0.00      0.00      0.00        67\n",
      "           4       0.00      0.00      0.00      2885\n",
      "\n",
      "    accuracy                           0.74     22544\n",
      "   macro avg       0.46      0.48      0.46     22544\n",
      "weighted avg       0.68      0.74      0.69     22544\n",
      "\n"
     ]
    }
   ],
   "source": [
    "print(\"Resultados Support Vector Machines:\")\n",
    "print(accuracy_score(y_test, svm_predictions))\n",
    "print(precision_recall_fscore_support(y_test, svm_predictions))\n",
    "print(classification_report(y_test, svm_predictions))"
   ]
  },
  {
   "cell_type": "markdown",
   "id": "f70af8f8-abad-4d66-88f7-f9c6fe6ff2cc",
   "metadata": {},
   "source": [
    "# **Classificação binária**"
   ]
  },
  {
   "cell_type": "code",
   "execution_count": 42,
   "id": "dc6a9a1f-cc53-4abb-812f-af55f1c0667a",
   "metadata": {},
   "outputs": [],
   "source": [
    "#transformando todos os ataques para 1 em y_train e y_test\n",
    "y_train_binary = pd.Series(y_train.map(lambda x: 0 if x == 0 else 1))\n",
    "y_test_binary = pd.Series(y_test.map(lambda x: 0 if x == 0 else 1))"
   ]
  },
  {
   "cell_type": "code",
   "execution_count": 43,
   "id": "c97c24a2-050e-4528-8466-455c2b1e25eb",
   "metadata": {},
   "outputs": [],
   "source": [
    "#treinando os modelos e gerando as previsões\n",
    "tree_pipeline.fit(x_train,y_train_binary)\n",
    "tree_predictions_binary = tree_pipeline.predict(x_test)\n",
    "\n",
    "rf_pipeline.fit(x_train,y_train_binary)\n",
    "rf_predictions_binary = rf_pipeline.predict(x_test)\n",
    "\n",
    "svm_pipeline.fit(x_train,y_train_binary)\n",
    "svm_predictions_binary = svm_pipeline.predict(x_test)"
   ]
  },
  {
   "cell_type": "code",
   "execution_count": 44,
   "id": "2a5d0fe1-b579-4442-9b6d-93701c2c1d48",
   "metadata": {},
   "outputs": [
    {
     "name": "stdout",
     "output_type": "stream",
     "text": [
      "Resultados Decision Tree:\n",
      "0.7832239176721079\n",
      "(array([0.67147732, 0.96862468]), array([0.97260838, 0.63991273]), array([0.79446524, 0.77068181]), array([ 9711, 12833]))\n",
      "              precision    recall  f1-score   support\n",
      "\n",
      "           0       0.67      0.97      0.79      9711\n",
      "           1       0.97      0.64      0.77     12833\n",
      "\n",
      "    accuracy                           0.78     22544\n",
      "   macro avg       0.82      0.81      0.78     22544\n",
      "weighted avg       0.84      0.78      0.78     22544\n",
      "\n"
     ]
    }
   ],
   "source": [
    "#métricas de avaliação\n",
    "print(\"Resultados Decision Tree:\")\n",
    "print(accuracy_score(y_test_binary, tree_predictions_binary))\n",
    "print(precision_recall_fscore_support(y_test_binary, tree_predictions_binary))\n",
    "print(classification_report(y_test_binary, tree_predictions_binary))"
   ]
  },
  {
   "cell_type": "code",
   "execution_count": 45,
   "id": "2f52539b-8d15-46c6-8c1b-19d24b70103a",
   "metadata": {},
   "outputs": [
    {
     "name": "stdout",
     "output_type": "stream",
     "text": [
      "Resultados Random Forest:\n",
      "0.7794978708303761\n",
      "(array([0.66727837, 0.9693171 ]), array([0.97353517, 0.63266578]), array([0.79182545, 0.76561837]), array([ 9711, 12833]))\n",
      "              precision    recall  f1-score   support\n",
      "\n",
      "           0       0.67      0.97      0.79      9711\n",
      "           1       0.97      0.63      0.77     12833\n",
      "\n",
      "    accuracy                           0.78     22544\n",
      "   macro avg       0.82      0.80      0.78     22544\n",
      "weighted avg       0.84      0.78      0.78     22544\n",
      "\n"
     ]
    }
   ],
   "source": [
    "print(\"Resultados Random Forest:\")\n",
    "print(accuracy_score(y_test_binary, rf_predictions_binary))\n",
    "print(precision_recall_fscore_support(y_test_binary, rf_predictions_binary))\n",
    "print(classification_report(y_test_binary, rf_predictions_binary))"
   ]
  },
  {
   "cell_type": "code",
   "execution_count": 46,
   "id": "f8a68984-678a-4458-bf0e-47ff8d733b7c",
   "metadata": {},
   "outputs": [
    {
     "name": "stdout",
     "output_type": "stream",
     "text": [
      "Resultados Support Vector Machines:\n",
      "0.7796309439318666\n",
      "(array([0.66622275, 0.97511176]), array([0.97878694, 0.62892543]), array([0.79281008, 0.7646613 ]), array([ 9711, 12833]))\n",
      "              precision    recall  f1-score   support\n",
      "\n",
      "           0       0.67      0.98      0.79      9711\n",
      "           1       0.98      0.63      0.76     12833\n",
      "\n",
      "    accuracy                           0.78     22544\n",
      "   macro avg       0.82      0.80      0.78     22544\n",
      "weighted avg       0.84      0.78      0.78     22544\n",
      "\n"
     ]
    }
   ],
   "source": [
    "print(\"Resultados Support Vector Machines:\")\n",
    "print(accuracy_score(y_test_binary, svm_predictions_binary))\n",
    "print(precision_recall_fscore_support(y_test_binary, svm_predictions_binary))\n",
    "print(classification_report(y_test_binary, svm_predictions_binary))"
   ]
  },
  {
   "cell_type": "markdown",
   "id": "b24f440b-675b-4075-b48c-267cd319d080",
   "metadata": {},
   "source": [
    "# **Binarização dos resultados da classificação não binária para testes**"
   ]
  },
  {
   "cell_type": "code",
   "execution_count": 49,
   "id": "ba7f3e91-503e-4a91-9fcb-2c1bd6123d9a",
   "metadata": {},
   "outputs": [],
   "source": [
    "tree_predictions_convertido = pd.Series(tree_predictions).map(lambda x: 0 if x == 0 else 1).to_numpy()\n",
    "rf_predictions_convertido = pd.Series(rf_predictions).map(lambda x: 0 if x == 0 else 1).to_numpy()\n",
    "svm_predictions_convertido = pd.Series(svm_predictions).map(lambda x: 0 if x == 0 else 1).to_numpy()"
   ]
  },
  {
   "cell_type": "code",
   "execution_count": 52,
   "id": "d7182bb3-031b-4be5-b184-ed50b6fef25f",
   "metadata": {},
   "outputs": [
    {
     "name": "stdout",
     "output_type": "stream",
     "text": [
      "Resultados Decision Tree:\n",
      "0.7837562100780695\n",
      "(array([0.67197724, 0.96900047]), array([0.97291731, 0.64061404]), array([0.79491818, 0.77130928]), array([ 9711, 12833]))\n",
      "              precision    recall  f1-score   support\n",
      "\n",
      "           0       0.67      0.97      0.79      9711\n",
      "           1       0.97      0.64      0.77     12833\n",
      "\n",
      "    accuracy                           0.78     22544\n",
      "   macro avg       0.82      0.81      0.78     22544\n",
      "weighted avg       0.84      0.78      0.78     22544\n",
      "\n"
     ]
    }
   ],
   "source": [
    "#métricas de avaliação\n",
    "print(\"Resultados Decision Tree:\")\n",
    "print(accuracy_score(y_test_binary, tree_predictions_convertido))\n",
    "print(precision_recall_fscore_support(y_test_binary, tree_predictions_convertido))\n",
    "print(classification_report(y_test_binary, tree_predictions_convertido))"
   ]
  },
  {
   "cell_type": "code",
   "execution_count": 54,
   "id": "0b5cd028-0117-4950-be6d-5d207a358220",
   "metadata": {},
   "outputs": [
    {
     "name": "stdout",
     "output_type": "stream",
     "text": [
      "Resultados Random Forest:\n",
      "0.7732434350603264\n",
      "(array([0.66072552, 0.96867792]), array([0.97343219, 0.62175641]), array([0.78715963, 0.75738016]), array([ 9711, 12833]))\n",
      "              precision    recall  f1-score   support\n",
      "\n",
      "           0       0.66      0.97      0.79      9711\n",
      "           1       0.97      0.62      0.76     12833\n",
      "\n",
      "    accuracy                           0.77     22544\n",
      "   macro avg       0.81      0.80      0.77     22544\n",
      "weighted avg       0.84      0.77      0.77     22544\n",
      "\n"
     ]
    }
   ],
   "source": [
    "print(\"Resultados Random Forest:\")\n",
    "print(accuracy_score(y_test_binary, rf_predictions_convertido))\n",
    "print(precision_recall_fscore_support(y_test_binary, rf_predictions_convertido))\n",
    "print(classification_report(y_test_binary, rf_predictions_convertido))"
   ]
  },
  {
   "cell_type": "code",
   "execution_count": 55,
   "id": "d1f01ed1-ab4c-4474-8557-f81a5261a4f0",
   "metadata": {},
   "outputs": [
    {
     "name": "stdout",
     "output_type": "stream",
     "text": [
      "Resultados Support Vector Machines:\n",
      "0.7779453513129879\n",
      "(array([0.66433811, 0.97557419]), array([0.97930182, 0.62557469]), array([0.79164239, 0.76232077]), array([ 9711, 12833]))\n",
      "              precision    recall  f1-score   support\n",
      "\n",
      "           0       0.66      0.98      0.79      9711\n",
      "           1       0.98      0.63      0.76     12833\n",
      "\n",
      "    accuracy                           0.78     22544\n",
      "   macro avg       0.82      0.80      0.78     22544\n",
      "weighted avg       0.84      0.78      0.77     22544\n",
      "\n"
     ]
    }
   ],
   "source": [
    "print(\"Resultados Support Vector Machines:\")\n",
    "print(accuracy_score(y_test_binary, svm_predictions_convertido))\n",
    "print(precision_recall_fscore_support(y_test_binary, svm_predictions_convertido))\n",
    "print(classification_report(y_test_binary, svm_predictions_convertido))"
   ]
  }
 ],
 "metadata": {
  "kernelspec": {
   "display_name": "Python 3 (ipykernel)",
   "language": "python",
   "name": "python3"
  },
  "language_info": {
   "codemirror_mode": {
    "name": "ipython",
    "version": 3
   },
   "file_extension": ".py",
   "mimetype": "text/x-python",
   "name": "python",
   "nbconvert_exporter": "python",
   "pygments_lexer": "ipython3",
   "version": "3.8.13"
  }
 },
 "nbformat": 4,
 "nbformat_minor": 5
}
